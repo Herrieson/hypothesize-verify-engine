{
 "cells": [
  {
   "cell_type": "code",
   "execution_count": 35,
   "id": "8efb1eb4",
   "metadata": {},
   "outputs": [],
   "source": [
    "import os\n",
    "from dotenv import load_dotenv\n",
    "import json\n",
    "import pandas as pd\n",
    "import ast\n",
    "from openai import OpenAI\n",
    "# from serpapi import Client as SerpApiClient\n",
    "import requests\n",
    "from tqdm import tqdm\n",
    "import time\n",
    "import matplotlib.pyplot as plt\n",
    "import seaborn as sns\n",
    "import warnings\n",
    "\n",
    "import random\n",
    "from sklearn.metrics import classification_report, confusion_matrix, accuracy_score\n",
    "\n",
    "load_dotenv()\n",
    "\n",
    "# 定义所需的环境变量\n",
    "REQUIRED_VARS = [\n",
    "    \"OPENROUTER_API_KEY\",\n",
    "    \"OPENROUTER_BASE_URL\",\n",
    "    \"SERPER_API_KEY\"\n",
    "]\n",
    "\n",
    "# 使用字典推导式加载配置，同时检查缺失项\n",
    "config = {var: os.environ.get(var) for var in REQUIRED_VARS}\n",
    "missing_vars = [var for var, value in config.items() if not value]\n",
    "\n",
    "if missing_vars:\n",
    "    raise ValueError(f\"错误: 缺少必要的环境变量: {', '.join(missing_vars)}\")"
   ]
  },
  {
   "cell_type": "code",
   "execution_count": 36,
   "id": "04a35e01",
   "metadata": {},
   "outputs": [],
   "source": [
    "# --- Model Selection ---\n",
    "# We use a powerful model to create the \"ground truth\" labels.\n",
    "GOLD_STANDARD_MODEL = \"google/gemini-2.5-flash\"\n",
    "# This is the smaller, cheaper model we are testing.\n",
    "VERIFIER_MODEL = \"google/gemini-2.5-flash-lite\" \n",
    "\n",
    "# --- Files and Samples ---\n",
    "INPUT_FILE = \"experiment_2_detailed_results.csv\" # Using results from the previous step\n",
    "OUTPUT_DATASET_FILE = \"experiment_3_test_dataset.csv\"\n",
    "OUTPUT_CHART_ACCURACY = \"figure_5_verifier_accuracy.png\"\n",
    "OUTPUT_CHART_CONFUSION_MATRIX = \"figure_6_verifier_confusion_matrix.png\"\n",
    "NUM_SAMPLES_PER_CLASS = 30 # Aim for this many samples for Supports, Refutes, and Neutral classes"
   ]
  },
  {
   "cell_type": "code",
   "execution_count": 37,
   "id": "05d256b7",
   "metadata": {},
   "outputs": [],
   "source": [
    "# --- Prompt Templates ---\n",
    "GOLD_STANDARD_PROMPT = \"\"\"\n",
    "You are a highly precise linguistic annotator. Your task is to provide a ground truth label for the relationship between a \"Knowledge Triple\" and \"Evidence Snippets\".\n",
    "You must base your decision *only* on the provided snippets. Your response must be a single word: Supports, Refutes, or Neutral.\n",
    "\n",
    "- Supports: The snippets directly state or strongly imply the triple is true.\n",
    "- Refutes: The snippets directly state or strongly imply the triple is false.\n",
    "- Neutral: The snippets are irrelevant, ambiguous, or do not contain enough information.\n",
    "\n",
    "Knowledge Triple: {triple}\n",
    "Evidence Snippets:\n",
    "---\n",
    "{snippets}\n",
    "---\n",
    "\n",
    "Your single-word response:\n",
    "\"\"\"\n",
    "\n",
    "VERIFIER_PROMPT = \"\"\"\n",
    "你是一个事实核查员。请判断以下“证据文本”是否支持、反驳或与给出的“知识断言”无关。\n",
    "你的回答只能是 \"Supports\", \"Refutes\", 或 \"Neutral\" 中的一个。\n",
    "\n",
    "知识断言: {triple}\n",
    "证据文本:\n",
    "---\n",
    "{snippets}\n",
    "---\n",
    "\n",
    "判断:\n",
    "\"\"\""
   ]
  },
  {
   "cell_type": "code",
   "execution_count": 38,
   "id": "90773d59",
   "metadata": {},
   "outputs": [],
   "source": [
    "client = OpenAI(\n",
    "    api_key=config[\"OPENROUTER_API_KEY\"], \n",
    "    base_url=config[\"OPENROUTER_BASE_URL\"]\n",
    "    )"
   ]
  },
  {
   "cell_type": "code",
   "execution_count": 39,
   "id": "bbdd1652",
   "metadata": {},
   "outputs": [],
   "source": [
    "# from 02.ipynb\n",
    "import requests\n",
    "\n",
    "SERPER_API_KEY = config[\"SERPER_API_KEY\"]\n",
    "QUERY_GENERATOR_MODEL = \"google/gemini-2.5-flash-lite\"\n",
    "REVISED_QUERY_GENERATION_PROMPT = \"\"\"\n",
    "You are an expert search engine user. Your primary task is to generate effective Google search queries to verify a given knowledge triple.\n",
    "\n",
    "First, think step-by-step about what information is needed to verify the triple.\n",
    "Then, generate up to 3 diverse and concise queries based on your thinking.\n",
    "\n",
    "Knowledge Triple: {triple}\n",
    "\n",
    "Your final output MUST be a JSON object with a single key \"queries\" containing a list of strings.\n",
    "Example: {{\"queries\": [\"when did Queen Victoria marry Prince Albert\", \"Queen Victoria Prince Albert wedding date\"]}}\n",
    "\"\"\"\n",
    "\n",
    "def generate_queries_from_triple(triple: tuple) -> list:\n",
    "    \"\"\"\n",
    "    Generates search queries from a triple with enhanced, robust parsing and debugging.\n",
    "    \"\"\"\n",
    "    try:\n",
    "        prompt = REVISED_QUERY_GENERATION_PROMPT.format(triple=str(triple))\n",
    "        response = client.chat.completions.create(\n",
    "            model=QUERY_GENERATOR_MODEL,\n",
    "            messages=[{\"role\": \"user\", \"content\": prompt}],\n",
    "            temperature=0.2,\n",
    "            response_format={\"type\": \"json_object\"}\n",
    "        )\n",
    "        content = response.choices[0].message.content\n",
    "\n",
    "        # --- 关键修改 1: 打印原始输出 (让我们看看模型到底返回了什么) ---\n",
    "        print(f\"\\n[DEBUG] Raw output for triple {triple}: {content}\")\n",
    "\n",
    "        # --- 关键修改 2: 更稳健的解析逻辑 ---\n",
    "        if not content:\n",
    "            print(\"[WARN] LLM returned empty content.\")\n",
    "            return []\n",
    "\n",
    "        data = json.loads(content)\n",
    "        \n",
    "        # 检查解析后的数据是不是一个字典\n",
    "        if not isinstance(data, dict):\n",
    "            print(f\"[WARN] LLM output was valid JSON, but not a dictionary (dict). Got type: {type(data)}\")\n",
    "            return []\n",
    "            \n",
    "        # 使用 .get() 方法安全地获取键值，如果键不存在，则返回默认值(空列表)\n",
    "        queries = data.get(\"queries\", [])\n",
    "        \n",
    "        if not queries:\n",
    "             print(f\"[WARN] Parsed JSON, but the 'queries' key was missing or its value was empty. Keys found: {list(data.keys())}\")\n",
    "\n",
    "        return queries\n",
    "\n",
    "    except json.JSONDecodeError:\n",
    "        # 这个错误会在模型返回了非JSON字符串时触发\n",
    "        print(f\"\\n[ERROR] JSONDecodeError: The model did not return a valid JSON string for triple: {triple}.\")\n",
    "        return []\n",
    "    except Exception as e:\n",
    "        # 捕获其他所有可能的错误\n",
    "        print(f\"\\n[ERROR] An unexpected error occurred in generate_queries_from_triple for {triple}. Error: {e}\")\n",
    "        return []\n",
    "\n",
    "def execute_search(query: str) -> str:\n",
    "    \"\"\"\n",
    "    Executes a search query using the Serper.dev API.\n",
    "    \"\"\"\n",
    "    url = \"https://google.serper.dev/search\"\n",
    "    payload = json.dumps({\n",
    "        \"q\": query,\n",
    "        \"num\": 3  # Get top 3 results\n",
    "    })\n",
    "    headers = {\n",
    "        'X-API-KEY': SERPER_API_KEY,\n",
    "        'Content-Type': 'application/json'\n",
    "    }\n",
    "    \n",
    "    try:\n",
    "        response = requests.request(\"POST\", url, headers=headers, data=payload)\n",
    "        response.raise_for_status()  # Will raise an exception for HTTP error codes\n",
    "        \n",
    "        results = response.json()\n",
    "        snippets = [res.get(\"snippet\", \"\") for res in results.get(\"organic\", [])]\n",
    "        return \"\\n\".join(filter(None, snippets))\n",
    "        \n",
    "    except requests.exceptions.RequestException as e:\n",
    "        print(f\"\\n[Error] Serper API call failed: {e}\")\n",
    "        return \"SEARCH_API_ERROR\"\n",
    "    except json.JSONDecodeError:\n",
    "        print(f\"\\n[Error] Failed to decode JSON response from Serper.\")\n",
    "        return \"SEARCH_API_ERROR\""
   ]
  },
  {
   "cell_type": "code",
   "execution_count": 40,
   "id": "15d87a4b",
   "metadata": {},
   "outputs": [],
   "source": [
    "def call_llm(prompt, model, is_json=False):\n",
    "    \"\"\"A generic wrapper for LLM calls.\"\"\"\n",
    "    try:\n",
    "        response = client.chat.completions.create(\n",
    "            model=model,\n",
    "            messages=[{\"role\": \"user\", \"content\": prompt}],\n",
    "            temperature=0.0,\n",
    "            response_format={\"type\": \"json_object\"} if is_json else None\n",
    "        )\n",
    "        return response.choices[0].message.content.strip()\n",
    "    except Exception as e:\n",
    "        print(f\"LLM call failed for model {model}. Error: {e}\")\n",
    "        return None\n",
    "\n",
    "def prepare_dataset():\n",
    "    \"\"\"\n",
    "    Prepares a balanced dataset for the verifier test, NOW INCLUDING 'REFUTES' SAMPLES.\n",
    "    This version has the corrected prompt for generating refutes.\n",
    "    \"\"\"\n",
    "    print(\"--- Step 1: Preparing Test Dataset (Corrected Logic) ---\")\n",
    "    \n",
    "    # Define the output file and delete it if it exists to ensure regeneration\n",
    "    dataset_file = OUTPUT_DATASET_FILE\n",
    "    if os.path.exists(dataset_file):\n",
    "        os.remove(dataset_file)\n",
    "        print(f\"Deleted old dataset '{dataset_file}' to regenerate with new logic.\")\n",
    "\n",
    "    df_exp1 = pd.read_csv(INPUT_FILE.replace(\"experiment_2_detailed_results\", \"experiment_1_auto_evaluated\"))\n",
    "    \n",
    "    test_data = []\n",
    "    supports_samples = []\n",
    "\n",
    "    # 1. Gather \"Supports\" samples first\n",
    "    print(\"Gathering 'Supports' samples...\")\n",
    "    source_rows = df_exp1.head(NUM_SAMPLES_PER_CLASS * 3)\n",
    "    with tqdm(total=NUM_SAMPLES_PER_CLASS, desc=\"Supports\") as pbar:\n",
    "        for _, row in source_rows.iterrows():\n",
    "            if len(supports_samples) >= NUM_SAMPLES_PER_CLASS: break\n",
    "            triples = ast.literal_eval(row['parsed_triples'])\n",
    "            for triple in triples:\n",
    "                if len(supports_samples) >= NUM_SAMPLES_PER_CLASS: break\n",
    "                queries = generate_queries_from_triple(tuple(triple))\n",
    "                time.sleep(0.5)\n",
    "                if queries:\n",
    "                    snippets = execute_search(queries[0])\n",
    "                    time.sleep(0.5)\n",
    "                    label = call_llm(GOLD_STANDARD_PROMPT.format(triple=str(triple), snippets=snippets), GOLD_STANDARD_MODEL)\n",
    "                    if label == \"Supports\":\n",
    "                        sample = {\"triple\": str(triple), \"snippets\": snippets, \"golden_label\": \"Supports\"}\n",
    "                        supports_samples.append(sample)\n",
    "                        test_data.append(sample)\n",
    "                        pbar.update(1)\n",
    "    \n",
    "    # --- THIS IS THE CORRECTED PROMPT ---\n",
    "    refutes_prompt = \"\"\"\n",
    "    Given a true knowledge triple, create a plausible but false version of it by changing only the object.\n",
    "    Original True Triple: {triple}\n",
    "    Your task is to respond in JSON format with a single key \"false_triple\".\n",
    "    Example: {{\"false_triple\": [\"TSMC\", \"headquartered_in\", \"Shanghai\"]}}\n",
    "    \"\"\"\n",
    "    \n",
    "    # 2. Generate \"Refutes\" samples using counterfactuals\n",
    "    print(\"Generating 'Refutes' samples...\")\n",
    "    with tqdm(total=NUM_SAMPLES_PER_CLASS, desc=\"Refutes\") as pbar:\n",
    "        # Shuffle to ensure we don't always use the first N samples\n",
    "        for sample in random.sample(supports_samples, len(supports_samples)):\n",
    "            if len([d for d in test_data if d['golden_label'] == 'Refutes']) >= NUM_SAMPLES_PER_CLASS: break\n",
    "            \n",
    "            true_triple_str = sample['triple']\n",
    "            true_snippets = sample['snippets']\n",
    "            \n",
    "            res = call_llm(refutes_prompt.format(triple=true_triple_str), GOLD_STANDARD_MODEL, is_json=True)\n",
    "            time.sleep(0.5)\n",
    "\n",
    "            if res:\n",
    "                try:\n",
    "                    false_triple_list = json.loads(res).get(\"false_triple\")\n",
    "                    if false_triple_list:\n",
    "                        false_triple_str = str(false_triple_list)\n",
    "                        # Verify that this new pairing is indeed a \"Refutes\" case\n",
    "                        label = call_llm(GOLD_STANDARD_PROMPT.format(triple=false_triple_str, snippets=true_snippets), GOLD_STANDARD_MODEL)\n",
    "                        time.sleep(0.5)\n",
    "                        if label == \"Refutes\":\n",
    "                            test_data.append({\"triple\": false_triple_str, \"snippets\": true_snippets, \"golden_label\": \"Refutes\"})\n",
    "                            pbar.update(1)\n",
    "                except (json.JSONDecodeError, AttributeError) as e:\n",
    "                    print(f\"Could not parse 'false_triple' response: {res}, Error: {e}\")\n",
    "\n",
    "    # 3. Generate \"Neutral\" samples\n",
    "    print(\"Generating 'Neutral' samples...\")\n",
    "    # Ensure we have enough source material\n",
    "    all_snippets = [d['snippets'] for d in supports_samples]\n",
    "    all_triples = [d['triple'] for d in supports_samples]\n",
    "    \n",
    "    if not all_snippets or not all_triples:\n",
    "        print(\"Not enough 'Supports' samples to generate 'Neutral' samples. Aborting.\")\n",
    "        return pd.DataFrame() # Return empty dataframe\n",
    "\n",
    "    with tqdm(total=NUM_SAMPLES_PER_CLASS, desc=\"Neutral\") as pbar:\n",
    "        attempts = 0\n",
    "        while len([d for d in test_data if d['golden_label'] == 'Neutral']) < NUM_SAMPLES_PER_CLASS and attempts < NUM_SAMPLES_PER_CLASS * 5:\n",
    "            triple = random.choice(all_triples)\n",
    "            snippet = random.choice(all_snippets)\n",
    "            # Verify that the random pairing is indeed Neutral\n",
    "            label = call_llm(GOLD_STANDARD_PROMPT.format(triple=triple, snippets=snippet), GOLD_STANDARD_MODEL)\n",
    "            time.sleep(0.5)\n",
    "            if label == \"Neutral\":\n",
    "                test_data.append({\"triple\": triple, \"snippets\": snippet, \"golden_label\": \"Neutral\"})\n",
    "                pbar.update(1)\n",
    "            attempts += 1\n",
    "\n",
    "\n",
    "    dataset_df = pd.DataFrame(test_data)\n",
    "    dataset_df.to_csv(OUTPUT_DATASET_FILE, index=False)\n",
    "    print(f\"Generated and saved new balanced dataset to {OUTPUT_DATASET_FILE}\")\n",
    "    return dataset_df\n",
    "\n",
    "\n",
    "def run_verifier_test(dataset_df: pd.DataFrame):\n",
    "    \"\"\"Runs the Verifier model on the prepared dataset.\"\"\"\n",
    "    print(f\"\\n--- Step 2: Running Verifier Model ({VERIFIER_MODEL}) on {len(dataset_df)} samples ---\")\n",
    "    predictions = []\n",
    "    for _, row in tqdm(dataset_df.iterrows(), total=len(dataset_df)):\n",
    "        prompt = VERIFIER_PROMPT.format(triple=row['triple'], snippets=row['snippets'])\n",
    "        prediction = call_llm(prompt, VERIFIER_MODEL)\n",
    "        time.sleep(0.5) # Rate limiting\n",
    "        predictions.append(prediction)\n",
    "    \n",
    "    dataset_df['predicted_label'] = predictions\n",
    "    return dataset_df\n",
    "\n",
    "\n",
    "def analyze_and_visualize(final_df: pd.DataFrame):\n",
    "    \"\"\"Calculates metrics and creates visualizations.\"\"\"\n",
    "    print(\"\\n--- Step 3: Analyzing Results ---\")\n",
    "    \n",
    "    # Filter out failed predictions\n",
    "    final_df.dropna(subset=['golden_label', 'predicted_label'], inplace=True)\n",
    "    labels = [\"Supports\", \"Refutes\", \"Neutral\"]\n",
    "    \n",
    "    # 1. Classification Report\n",
    "    print(\"Classification Report:\")\n",
    "    report = classification_report(final_df['golden_label'], final_df['predicted_label'], labels=labels, zero_division=0)\n",
    "    print(report)\n",
    "    \n",
    "    # 2. Overall Accuracy\n",
    "    accuracy = accuracy_score(final_df['golden_label'], final_df['predicted_label'])\n",
    "    print(f\"Overall Accuracy: {accuracy:.2%}\")\n",
    "    \n",
    "    # 3. Plotting: Overall Accuracy Bar Chart\n",
    "    plt.figure(figsize=(8, 6))\n",
    "    sns.set_theme(style=\"whitegrid\")\n",
    "    acc_bar = sns.barplot(x=[\"Overall Accuracy\"], y=[accuracy], palette=[\"cornflowerblue\"])\n",
    "    plt.axhline(y=0.90, color='r', linestyle='--', label='Success Threshold (90%)')\n",
    "    plt.title(f'Verifier Model ({VERIFIER_MODEL}) Accuracy', fontsize=16)\n",
    "    plt.ylabel('Accuracy Score')\n",
    "    plt.ylim(0, 1.05)\n",
    "    plt.text(0, accuracy, f'{accuracy:.2%}', ha='center', va='bottom', fontsize=14)\n",
    "    plt.legend()\n",
    "    plt.tight_layout()\n",
    "    plt.savefig(OUTPUT_CHART_ACCURACY)\n",
    "    print(f\"Accuracy chart saved to {OUTPUT_CHART_ACCURACY}\")\n",
    "\n",
    "    # 4. Plotting: Confusion Matrix\n",
    "    cm = confusion_matrix(final_df['golden_label'], final_df['predicted_label'], labels=labels)\n",
    "    plt.figure(figsize=(10, 8))\n",
    "    sns.heatmap(cm, annot=True, fmt='d', cmap='Blues', xticklabels=labels, yticklabels=labels)\n",
    "    plt.title(f'Confusion Matrix for {VERIFIER_MODEL}', fontsize=16)\n",
    "    plt.xlabel('Predicted Label', fontsize=12)\n",
    "    plt.ylabel('True Label', fontsize=12)\n",
    "    plt.tight_layout()\n",
    "    plt.savefig(OUTPUT_CHART_CONFUSION_MATRIX)\n",
    "    print(f\"Confusion matrix saved to {OUTPUT_CHART_CONFUSION_MATRIX}\")"
   ]
  },
  {
   "cell_type": "code",
   "execution_count": 41,
   "id": "7759a68b",
   "metadata": {},
   "outputs": [],
   "source": [
    "def main():\n",
    "    \"\"\"Main function to run the entire experiment.\"\"\"\n",
    "    # Step 1: Create the ground truth dataset\n",
    "    test_dataset = prepare_dataset()\n",
    "    \n",
    "    # Step 2: Run the model under test\n",
    "    results_df = run_verifier_test(test_dataset)\n",
    "    \n",
    "    # Step 3: Analyze and visualize the results\n",
    "    analyze_and_visualize(results_df)"
   ]
  },
  {
   "cell_type": "code",
   "execution_count": 42,
   "id": "ecd19217",
   "metadata": {},
   "outputs": [
    {
     "name": "stdout",
     "output_type": "stream",
     "text": [
      "--- Step 1: Preparing Test Dataset (Corrected Logic) ---\n",
      "Gathering 'Supports' samples...\n"
     ]
    },
    {
     "name": "stderr",
     "output_type": "stream",
     "text": [
      "Supports:   0%|          | 0/30 [00:00<?, ?it/s]"
     ]
    },
    {
     "name": "stdout",
     "output_type": "stream",
     "text": [
      "\n",
      "[DEBUG] Raw output for triple ('Scott Derrickson', 'nationality', 'American'): {\"queries\": [\"Scott Derrickson nationality\", \"Is Scott Derrickson American?\", \"Scott Derrickson biography\"]}\n"
     ]
    },
    {
     "name": "stderr",
     "output_type": "stream",
     "text": [
      "Supports:   3%|▎         | 1/30 [00:05<02:37,  5.43s/it]"
     ]
    },
    {
     "name": "stdout",
     "output_type": "stream",
     "text": [
      "\n",
      "[DEBUG] Raw output for triple ('Ed Wood', 'nationality', 'American'): {\"queries\": [\"Ed Wood nationality\", \"Is Ed Wood American?\", \"Ed Wood biography nationality\"]}\n"
     ]
    },
    {
     "name": "stderr",
     "output_type": "stream",
     "text": [
      "Supports:   7%|▋         | 2/30 [00:09<02:09,  4.63s/it]"
     ]
    },
    {
     "name": "stdout",
     "output_type": "stream",
     "text": [
      "\n",
      "[DEBUG] Raw output for triple ('Scott Derrickson', 'is same nationality as', 'Ed Wood'): {\"queries\": [\"Scott Derrickson nationality\", \"Ed Wood nationality\", \"Scott Derrickson Ed Wood nationality comparison\"]}\n",
      "\n",
      "[DEBUG] Raw output for triple ('Corliss Archer', 'portrayed by', 'Shirley Temple'): {\"queries\": [\"Corliss Archer Shirley Temple\", \"who played Corliss Archer\", \"Shirley Temple filmography Corliss Archer\"]}\n"
     ]
    },
    {
     "name": "stderr",
     "output_type": "stream",
     "text": [
      "Supports:  10%|█         | 3/30 [00:18<02:52,  6.40s/it]"
     ]
    },
    {
     "name": "stdout",
     "output_type": "stream",
     "text": [
      "\n",
      "[DEBUG] Raw output for triple ('Shirley Temple', 'acted in', 'Kiss and Tell'): {\"queries\": [\"Shirley Temple filmography\", \"Shirley Temple Kiss and Tell role\", \"Kiss and Tell cast Shirley Temple\"]}\n",
      "\n",
      "[DEBUG] Raw output for triple ('Shirley Temple', 'held position', 'Ambassador to Ghana'): {\"queries\": [\"Shirley Temple ambassador Ghana\", \"Shirley Temple diplomatic career\", \"When was Shirley Temple appointed Ambassador to Ghana?\"]}\n"
     ]
    },
    {
     "name": "stderr",
     "output_type": "stream",
     "text": [
      "Supports:  13%|█▎        | 4/30 [00:27<03:23,  7.82s/it]"
     ]
    },
    {
     "name": "stdout",
     "output_type": "stream",
     "text": [
      "\n",
      "[DEBUG] Raw output for triple ('Shirley Temple', 'held position', 'Ambassador to Czechoslovakia'): {\"queries\": [\"Shirley Temple ambassador Czechoslovakia\", \"Shirley Temple diplomatic career\", \"When was Shirley Temple appointed Ambassador to Czechoslovakia?\"]}\n"
     ]
    },
    {
     "name": "stderr",
     "output_type": "stream",
     "text": [
      "Supports:  17%|█▋        | 5/30 [00:31<02:36,  6.25s/it]"
     ]
    },
    {
     "name": "stdout",
     "output_type": "stream",
     "text": [
      "\n",
      "[DEBUG] Raw output for triple ('Shirley Temple', 'held position', 'Chief of Protocol of the United States'): {\"queries\": [\"Shirley Temple Chief of Protocol of the United States\", \"Shirley Temple government positions\", \"Shirley Temple diplomatic career\"]}\n"
     ]
    },
    {
     "name": "stderr",
     "output_type": "stream",
     "text": [
      "Supports:  20%|██        | 6/30 [00:35<02:13,  5.57s/it]"
     ]
    },
    {
     "name": "stdout",
     "output_type": "stream",
     "text": [
      "\n",
      "[DEBUG] Raw output for triple ('Shirley Temple', 'held position', 'United States Representative to the United Nations General Assembly'): {\"queries\": [\"Shirley Temple United States Representative to the United Nations General Assembly\", \"Shirley Temple UN General Assembly position\", \"Shirley Temple political career UN\"]}\n"
     ]
    },
    {
     "name": "stderr",
     "output_type": "stream",
     "text": [
      "Supports:  23%|██▎       | 7/30 [00:39<01:53,  4.93s/it]"
     ]
    },
    {
     "name": "stdout",
     "output_type": "stream",
     "text": [
      "\n",
      "[DEBUG] Raw output for triple ('Series', 'hasGenre', 'Science Fantasy'): {\"queries\": [\"list of science fantasy TV series\", \"what defines science fantasy genre in TV shows\", \"examples of science fantasy series\"]}\n",
      "\n",
      "[DEBUG] Raw output for triple ('Series', 'hasGenre', 'Young Adult'): {\"queries\": [\"what defines a young adult series\", \"examples of young adult series\", \"list of young adult fiction series\"]}\n"
     ]
    },
    {
     "name": "stderr",
     "output_type": "stream",
     "text": [
      "Supports:  27%|██▋       | 8/30 [00:48<02:17,  6.24s/it]"
     ]
    },
    {
     "name": "stdout",
     "output_type": "stream",
     "text": [
      "\n",
      "[DEBUG] Raw output for triple ('Series', 'hasNarrativePerspective', 'First Person'): {\"queries\": [\"define narrative perspective in literature\", \"examples of first person narrative in TV series\", \"what is first person narrative perspective\"]}\n",
      "\n",
      "[DEBUG] Raw output for triple ('Series', 'hasCompanionBooks', 'Companion Books'): {\"queries\": [\"what are companion books for a series\", \"examples of series with companion books\", \"define companion books in literature\"]}\n",
      "\n",
      "[DEBUG] Raw output for triple ('Companion Books', 'narratesAbout', 'Enslaved Worlds'): {\"queries\": [\"\\\"Companion Books\\\" \\\"Enslaved Worlds\\\" book\", \"Companion Books about slavery\", \"Companion Books \\\"Enslaved Worlds\\\" review\"]}\n"
     ]
    },
    {
     "name": "stderr",
     "output_type": "stream",
     "text": [
      "Supports:  30%|███       | 9/30 [01:01<02:58,  8.49s/it]"
     ]
    },
    {
     "name": "stdout",
     "output_type": "stream",
     "text": [
      "\n",
      "[DEBUG] Raw output for triple ('Companion Books', 'narratesAbout', 'Alien Species'): {\"queries\": [\"what are companion books\", \"books that narrate about alien species\", \"examples of companion books about alien species\"]}\n",
      "\n",
      "[DEBUG] Raw output for triple ('Animorphs', 'isA', 'Series'): {\"queries\": [\"Animorphs genre\", \"what is Animorphs\", \"Animorphs book series\"]}\n"
     ]
    },
    {
     "name": "stderr",
     "output_type": "stream",
     "text": [
      "Supports:  33%|███▎      | 10/30 [01:09<02:46,  8.35s/it]"
     ]
    },
    {
     "name": "stdout",
     "output_type": "stream",
     "text": [
      "\n",
      "[DEBUG] Raw output for triple ('Animorphs', 'hasGenre', 'Science Fantasy'): {\"queries\": [\"Animorphs genre\", \"Animorphs science fantasy\", \"what genre is Animorphs series\"]}\n"
     ]
    },
    {
     "name": "stderr",
     "output_type": "stream",
     "text": [
      "Supports:  37%|███▋      | 11/30 [01:13<02:13,  7.04s/it]"
     ]
    },
    {
     "name": "stdout",
     "output_type": "stream",
     "text": [
      "\n",
      "[DEBUG] Raw output for triple ('Animorphs', 'hasGenre', 'Young Adult'): {\"queries\": [\"Animorphs genre\", \"Animorphs book series genre\", \"what genre is Animorphs\"]}\n"
     ]
    },
    {
     "name": "stderr",
     "output_type": "stream",
     "text": [
      "Supports:  40%|████      | 12/30 [01:18<01:50,  6.15s/it]"
     ]
    },
    {
     "name": "stdout",
     "output_type": "stream",
     "text": [
      "\n",
      "[DEBUG] Raw output for triple ('Animorphs', 'hasNarrativePerspective', 'First Person'): {\"queries\": [\"Animorphs narrative perspective\", \"Animorphs point of view\", \"Is Animorphs written in first person?\"]}\n"
     ]
    },
    {
     "name": "stderr",
     "output_type": "stream",
     "text": [
      "Supports:  43%|████▎     | 13/30 [01:22<01:36,  5.66s/it]"
     ]
    },
    {
     "name": "stdout",
     "output_type": "stream",
     "text": [
      "\n",
      "[DEBUG] Raw output for triple ('Animorphs', 'hasCompanionBooks', 'Chronicles'): {\"queries\": [\"Animorphs companion books list\", \"Animorphs series companion novels\", \"Animorphs books other than main series\"]}\n"
     ]
    },
    {
     "name": "stderr",
     "output_type": "stream",
     "text": [
      "Supports:  47%|████▋     | 14/30 [01:27<01:26,  5.43s/it]"
     ]
    },
    {
     "name": "stdout",
     "output_type": "stream",
     "text": [
      "\n",
      "[DEBUG] Raw output for triple ('Animorphs', 'hasCompanionBooks', 'Megamorphs'): {\"queries\": [\"Animorphs Megamorphs series order\", \"What are the Megamorphs books in the Animorphs series?\", \"Animorphs companion series Megamorphs\"]}\n"
     ]
    },
    {
     "name": "stderr",
     "output_type": "stream",
     "text": [
      "Supports:  50%|█████     | 15/30 [01:31<01:13,  4.93s/it]"
     ]
    },
    {
     "name": "stdout",
     "output_type": "stream",
     "text": [
      "\n",
      "[DEBUG] Raw output for triple ('Animorphs', 'hasCompanionBooks', 'Alternamorphs'): {\"queries\": [\"Animorphs Alternamorphs series\", \"what are Alternamorphs in the Animorphs series\", \"Animorphs companion books list\"]}\n"
     ]
    },
    {
     "name": "stderr",
     "output_type": "stream",
     "text": [
      "Supports:  53%|█████▎    | 16/30 [01:34<01:03,  4.54s/it]"
     ]
    },
    {
     "name": "stdout",
     "output_type": "stream",
     "text": [
      "\n",
      "[DEBUG] Raw output for triple ('Chronicles', 'isA', 'Companion Books'): {\"queries\": [\"what are companion books\", \"definition of companion books\", \"examples of companion books\"]}\n",
      "\n",
      "[DEBUG] Raw output for triple ('Megamorphs', 'isA', 'Companion Books'): {\"queries\": [\"Megamorphs book series\", \"what are Megamorphs books\", \"Megamorphs companion books\"]}\n"
     ]
    },
    {
     "name": "stderr",
     "output_type": "stream",
     "text": [
      "Supports:  57%|█████▋    | 17/30 [01:43<01:13,  5.67s/it]"
     ]
    },
    {
     "name": "stdout",
     "output_type": "stream",
     "text": [
      "\n",
      "[DEBUG] Raw output for triple ('Alternamorphs', 'isA', 'Companion Books'): {\"queries\": [\"Alternamorphs companion books\", \"what are Alternamorphs books\", \"Alternamorphs series type\"]}\n",
      "\n",
      "[DEBUG] Raw output for triple ('Chronicles', 'narratesAbout', 'Enslaved Worlds'): {\"queries\": [\"\\\"Chronicles\\\" \\\"Enslaved Worlds\\\" summary\", \"What is \\\"Chronicles\\\" about?\", \"Does \\\"Chronicles\\\" narrate about \\\"Enslaved Worlds\\\"?\"]}\n"
     ]
    },
    {
     "name": "stderr",
     "output_type": "stream",
     "text": [
      "Supports:  60%|██████    | 18/30 [01:50<01:13,  6.16s/it]"
     ]
    },
    {
     "name": "stdout",
     "output_type": "stream",
     "text": [
      "\n",
      "[DEBUG] Raw output for triple ('Chronicles', 'narratesAbout', 'Alien Species'): {\"queries\": [\"what is the plot of Chronicles\", \"Chronicles movie alien species\", \"Chronicles book alien species\"]}\n",
      "\n",
      "[DEBUG] Raw output for triple ('Megamorphs', 'narratesAbout', 'Enslaved Worlds'): {\"queries\": [\"Megamorphs book series plot summary\", \"Megamorphs series themes\", \"what are the Megamorphs books about\"]}\n",
      "\n",
      "[DEBUG] Raw output for triple ('Megamorphs', 'narratesAbout', 'Alien Species'): {\"queries\": [\"Megamorphs book series plot summary\", \"Megamorphs alien species description\", \"what are the alien species in the Megamorphs series\"]}\n"
     ]
    },
    {
     "name": "stderr",
     "output_type": "stream",
     "text": [
      "Supports:  63%|██████▎   | 19/30 [02:02<01:28,  8.00s/it]"
     ]
    },
    {
     "name": "stdout",
     "output_type": "stream",
     "text": [
      "\n",
      "[DEBUG] Raw output for triple ('Laleli Mosque', 'located in', 'Fatih'): {\"queries\": [\"Laleli Mosque location\", \"Laleli Mosque Fatih district\", \"where is Laleli Mosque located\"]}\n"
     ]
    },
    {
     "name": "stderr",
     "output_type": "stream",
     "text": [
      "Supports:  67%|██████▋   | 20/30 [02:06<01:07,  6.74s/it]"
     ]
    },
    {
     "name": "stdout",
     "output_type": "stream",
     "text": [
      "\n",
      "[DEBUG] Raw output for triple ('Esma Sultan Mansion', 'located in', 'Ortaköy'): {\"queries\": [\"Esma Sultan Mansion location\", \"Esma Sultan Mansion Ortaköy\", \"where is Esma Sultan Mansion\"]}\n"
     ]
    },
    {
     "name": "stderr",
     "output_type": "stream",
     "text": [
      "Supports:  70%|███████   | 21/30 [02:11<00:57,  6.34s/it]"
     ]
    },
    {
     "name": "stdout",
     "output_type": "stream",
     "text": [
      "\n",
      "[DEBUG] Raw output for triple ('Fatih', 'is a neighborhood in', 'Istanbul'): {\"queries\": [\"Fatih neighborhood Istanbul\", \"Is Fatih a district of Istanbul?\", \"List of neighborhoods in Istanbul\"]}\n"
     ]
    },
    {
     "name": "stderr",
     "output_type": "stream",
     "text": [
      "Supports:  73%|███████▎  | 22/30 [02:16<00:45,  5.71s/it]"
     ]
    },
    {
     "name": "stdout",
     "output_type": "stream",
     "text": [
      "\n",
      "[DEBUG] Raw output for triple ('Ortaköy', 'is a neighborhood in', 'Istanbul'): {\"queries\": [\"Ortakoy neighborhood Istanbul\", \"Is Ortakoy a district of Istanbul\", \"Ortakoy Istanbul location\"]}\n"
     ]
    },
    {
     "name": "stderr",
     "output_type": "stream",
     "text": [
      "Supports:  77%|███████▋  | 23/30 [02:20<00:37,  5.33s/it]"
     ]
    },
    {
     "name": "stdout",
     "output_type": "stream",
     "text": [
      "\n",
      "[DEBUG] Raw output for triple ('Fatih', 'is not the same neighborhood as', 'Ortaköy'): {\"queries\": [\"Fatih vs Ortaköy Istanbul\", \"Are Fatih and Ortaköy the same district in Istanbul?\", \"Istanbul neighborhoods Fatih Ortaköy comparison\"]}\n",
      "\n",
      "[DEBUG] Raw output for triple ('Big Stone Gap', 'has genre', 'romantic comedy'): {\"queries\": [\"Big Stone Gap movie genre\", \"Big Stone Gap romantic comedy film\", \"what genre is the movie Big Stone Gap\"]}\n"
     ]
    },
    {
     "name": "stderr",
     "output_type": "stream",
     "text": [
      "Supports:  80%|████████  | 24/30 [02:29<00:39,  6.50s/it]"
     ]
    },
    {
     "name": "stdout",
     "output_type": "stream",
     "text": [
      "\n",
      "[DEBUG] Raw output for triple ('Big Stone Gap', 'has director', 'Adriana Trigiani'): {\"queries\": [\"\\\"Big Stone Gap\\\" movie director\", \"Adriana Trigiani filmography Big Stone Gap\", \"who directed Big Stone Gap\"]}\n"
     ]
    },
    {
     "name": "stderr",
     "output_type": "stream",
     "text": [
      "Supports:  83%|████████▎ | 25/30 [02:34<00:29,  5.96s/it]"
     ]
    },
    {
     "name": "stdout",
     "output_type": "stream",
     "text": [
      "\n",
      "[DEBUG] Raw output for triple ('Adriana Trigiani', 'is based in', 'New York City'): {\"queries\": [\"Adriana Trigiani location\", \"Adriana Trigiani based in\", \"Where does Adriana Trigiani live?\"]}\n"
     ]
    },
    {
     "name": "stderr",
     "output_type": "stream",
     "text": [
      "Supports:  87%|████████▋ | 26/30 [02:40<00:23,  5.84s/it]"
     ]
    },
    {
     "name": "stdout",
     "output_type": "stream",
     "text": [
      "\n",
      "[DEBUG] Raw output for triple ('New York City', 'is a type of', 'city'): {\"queries\": [\"definition of New York City\", \"what is New York City\", \"is New York City a city\"]}\n"
     ]
    },
    {
     "name": "stderr",
     "output_type": "stream",
     "text": [
      "Supports:  90%|█████████ | 27/30 [02:44<00:16,  5.42s/it]"
     ]
    },
    {
     "name": "stdout",
     "output_type": "stream",
     "text": [
      "\n",
      "[DEBUG] Raw output for triple ('New York City', 'is located in', 'New York State'): {\"queries\": [\"New York City location\", \"Is New York City in New York State?\", \"New York City administrative location\"]}\n"
     ]
    },
    {
     "name": "stderr",
     "output_type": "stream",
     "text": [
      "Supports:  93%|█████████▎| 28/30 [02:49<00:10,  5.21s/it]"
     ]
    },
    {
     "name": "stdout",
     "output_type": "stream",
     "text": [
      "\n",
      "[DEBUG] Raw output for triple ('2014 S/S', 'is album', 'WINNER'): {\"queries\": [\"WINNER discography\", \"WINNER 2014 S/S album details\", \"WINNER debut album\"]}\n",
      "\n",
      "[DEBUG] Raw output for triple ('WINNER', 'is type of', 'South Korean boy group'): {\"queries\": [\"WINNER band South Korea\", \"WINNER Kpop group\", \"What kind of group is WINNER\"]}\n"
     ]
    },
    {
     "name": "stderr",
     "output_type": "stream",
     "text": [
      "Supports:  97%|█████████▋| 29/30 [02:57<00:06,  6.17s/it]"
     ]
    },
    {
     "name": "stdout",
     "output_type": "stream",
     "text": [
      "\n",
      "[DEBUG] Raw output for triple ('WINNER', 'was formed by', 'YG Entertainment'): {\"queries\": [\"WINNER YG Entertainment formation\", \"When did WINNER debut YG Entertainment\", \"YG Entertainment groups WINNER\"]}\n"
     ]
    },
    {
     "name": "stderr",
     "output_type": "stream",
     "text": [
      "Supports: 100%|██████████| 30/30 [03:01<00:00,  6.06s/it]\n"
     ]
    },
    {
     "name": "stdout",
     "output_type": "stream",
     "text": [
      "Generating 'Refutes' samples...\n"
     ]
    },
    {
     "name": "stderr",
     "output_type": "stream",
     "text": [
      "Refutes:  60%|██████    | 18/30 [01:24<00:56,  4.67s/it]\n"
     ]
    },
    {
     "name": "stdout",
     "output_type": "stream",
     "text": [
      "Generating 'Neutral' samples...\n"
     ]
    },
    {
     "name": "stderr",
     "output_type": "stream",
     "text": [
      "Neutral: 100%|██████████| 30/30 [00:42<00:00,  1.41s/it]\n"
     ]
    },
    {
     "name": "stdout",
     "output_type": "stream",
     "text": [
      "Generated and saved new balanced dataset to experiment_3_test_dataset.csv\n",
      "\n",
      "--- Step 2: Running Verifier Model (google/gemini-2.5-flash-lite) on 78 samples ---\n"
     ]
    },
    {
     "name": "stderr",
     "output_type": "stream",
     "text": [
      "100%|██████████| 78/78 [02:02<00:00,  1.58s/it]\n",
      "/tmp/ipykernel_70628/2420852306.py:153: FutureWarning: \n",
      "\n",
      "Passing `palette` without assigning `hue` is deprecated and will be removed in v0.14.0. Assign the `x` variable to `hue` and set `legend=False` for the same effect.\n",
      "\n",
      "  acc_bar = sns.barplot(x=[\"Overall Accuracy\"], y=[accuracy], palette=[\"cornflowerblue\"])\n"
     ]
    },
    {
     "name": "stdout",
     "output_type": "stream",
     "text": [
      "\n",
      "--- Step 3: Analyzing Results ---\n",
      "Classification Report:\n",
      "              precision    recall  f1-score   support\n",
      "\n",
      "    Supports       1.00      1.00      1.00        30\n",
      "     Refutes       1.00      0.78      0.88        18\n",
      "     Neutral       0.88      1.00      0.94        30\n",
      "\n",
      "    accuracy                           0.95        78\n",
      "   macro avg       0.96      0.93      0.94        78\n",
      "weighted avg       0.95      0.95      0.95        78\n",
      "\n",
      "Overall Accuracy: 94.87%\n",
      "Accuracy chart saved to figure_5_verifier_accuracy.png\n",
      "Confusion matrix saved to figure_6_verifier_confusion_matrix.png\n"
     ]
    },
    {
     "data": {
      "image/png": "[encoded data removed]",
      "text/plain": [
       "<Figure size 800x600 with 1 Axes>"
      ]
     },
     "metadata": {},
     "output_type": "display_data"
    },
    {
     "data": {
      "image/png": "[encoded data removed]",
      "text/plain": [
       "<Figure size 1000x800 with 2 Axes>"
      ]
     },
     "metadata": {},
     "output_type": "display_data"
    }
   ],
   "source": [
    "main()"
   ]
  }
 ],
 "metadata": {
  "kernelspec": {
   "display_name": "hypothesize-verify-engine",
   "language": "python",
   "name": "python3"
  },
  "language_info": {
   "codemirror_mode": {
    "name": "ipython",
    "version": 3
   },
   "file_extension": ".py",
   "mimetype": "text/x-python",
   "name": "python",
   "nbconvert_exporter": "python",
   "pygments_lexer": "ipython3",
   "version": "3.12.10"
  }
 },
 "nbformat": 4,
 "nbformat_minor": 5
}
